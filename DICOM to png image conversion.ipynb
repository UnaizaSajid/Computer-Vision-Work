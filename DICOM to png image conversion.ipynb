{
 "cells": [
  {
   "cell_type": "code",
   "execution_count": 1,
   "metadata": {},
   "outputs": [
    {
     "name": "stdout",
     "output_type": "stream",
     "text": [
      "C:\\Users\\Home\\Thesis\\Thesis I\\dicom images\n",
      "['calc_case_description_test_set.csv', 'calc_case_description_train_set.csv', 'CBIS-DDSM', 'Full Image', 'mass_case_description_test_set.csv', 'mass_case_description_train_set.csv', 'ROI Mask', 'test', 'train']\n",
      "True\n",
      "True\n",
      "True\n",
      "True\n"
     ]
    }
   ],
   "source": [
    "import cv2\n",
    "import os\n",
    "import pydicom\n",
    "import glob\n",
    "\n",
    "inputdir = r'C:\\Users\\Home\\-----'\n",
    "path=inputdir+\"\\\\\"\n",
    "print(inputdir)\n",
    "\n",
    "outdir = r'D:\\-------'\n",
    "os.chdir(outdir) \n",
    "#os.mkdir(outdir)\n",
    "print(os.listdir(outdir))   \n",
    "\n",
    "test_list = [os.path.basename(x) for x in glob.glob(path + './*.dcm')]\n",
    "\n",
    "for f in test_list:   \n",
    "    ds = pydicom.read_file(path + f) # read dicom image\n",
    "    img = ds.pixel_array # get image array\n",
    "    n=f.replace('.dcm','.png')\n",
    "    #os.path.join(path , 'waka.jpg'),\n",
    "    img=cv2.imwrite(os.path.join(outdir , n) ,img) # write png image\n",
    "    print(img)\n"
   ]
  },
  {
   "cell_type": "code",
   "execution_count": null,
   "metadata": {},
   "outputs": [],
   "source": []
  }
 ],
 "metadata": {
  "kernelspec": {
   "display_name": "Python 3",
   "language": "python",
   "name": "python3"
  },
  "language_info": {
   "codemirror_mode": {
    "name": "ipython",
    "version": 3
   },
   "file_extension": ".py",
   "mimetype": "text/x-python",
   "name": "python",
   "nbconvert_exporter": "python",
   "pygments_lexer": "ipython3",
   "version": "3.8.5"
  }
 },
 "nbformat": 4,
 "nbformat_minor": 4
}
